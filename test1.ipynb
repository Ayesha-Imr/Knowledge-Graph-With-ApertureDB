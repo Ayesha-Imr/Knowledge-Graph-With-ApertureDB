{
 "cells": [
  {
   "cell_type": "code",
   "execution_count": 1,
   "id": "2da94823",
   "metadata": {},
   "outputs": [],
   "source": [
    "!pip install -U --quiet aperturedb"
   ]
  },
  {
   "cell_type": "code",
   "execution_count": 2,
   "id": "810d6825",
   "metadata": {},
   "outputs": [],
   "source": [
    "from aperturedb import Connector as Connector\n",
    "\n",
    "client = Connector.Connector(\n",
    "\thost=\"my-instance-g4hkuyce.farm0003.cloud.aperturedata.io\",\n",
    "\tuser=\"admin\",\n",
    "\tpassword=\"inStance#02\"\n",
    ")"
   ]
  },
  {
   "cell_type": "code",
   "execution_count": 3,
   "id": "5169ef94",
   "metadata": {},
   "outputs": [
    {
     "name": "stdout",
     "output_type": "stream",
     "text": [
      "[\n",
      "    {\n",
      "        \"GetStatus\": {\n",
      "            \"info\": \"OK\",\n",
      "            \"status\": 0,\n",
      "            \"system\": \"ApertureDB\",\n",
      "            \"version\": \"0.18.9\"\n",
      "        }\n",
      "    }\n",
      "]\n"
     ]
    }
   ],
   "source": [
    "response, _ = client.query([{\"GetStatus\": {}}])\n",
    "\n",
    "client.print_last_response()"
   ]
  },
  {
   "cell_type": "code",
   "execution_count": 4,
   "id": "11dc389c",
   "metadata": {},
   "outputs": [
    {
     "name": "stdout",
     "output_type": "stream",
     "text": [
      "[\n",
      "    {\n",
      "        \"AddEntity\": {\n",
      "            \"status\": 0\n",
      "        }\n",
      "    }\n",
      "]\n"
     ]
    }
   ],
   "source": [
    "response, _ = client.query([{\n",
    "\t\"AddEntity\": {\n",
    "\t\t\"class\": \"document\",\n",
    "\t\t\"properties\": {\n",
    "\t\t\t\"id\": 123, \n",
    "\t\t\t\"content\": \"This is a piece of text\"\n",
    "\t\t}\n",
    "\t}\n",
    "}])\n",
    "\n",
    "client.print_last_response()"
   ]
  },
  {
   "cell_type": "code",
   "execution_count": 5,
   "id": "0812139c",
   "metadata": {},
   "outputs": [
    {
     "name": "stdout",
     "output_type": "stream",
     "text": [
      "[\n",
      "    {\n",
      "        \"GetSchema\": {\n",
      "            \"connections\": null,\n",
      "            \"entities\": {\n",
      "                \"classes\": {\n",
      "                    \"document\": {\n",
      "                        \"matched\": 1,\n",
      "                        \"properties\": {\n",
      "                            \"content\": [\n",
      "                                1,\n",
      "                                false,\n",
      "                                \"String\"\n",
      "                            ],\n",
      "                            \"id\": [\n",
      "                                1,\n",
      "                                false,\n",
      "                                \"Number\"\n",
      "                            ]\n",
      "                        }\n",
      "                    }\n",
      "                },\n",
      "                \"returned\": 1\n",
      "            },\n",
      "            \"refreshed\": \"2025-04-12T11:21:21.086871Z\",\n",
      "            \"status\": 0\n",
      "        }\n",
      "    }\n",
      "]\n"
     ]
    }
   ],
   "source": [
    "response, _ = client.query([{\"GetSchema\": {}}])\n",
    "\n",
    "client.print_last_response()"
   ]
  },
  {
   "cell_type": "code",
   "execution_count": null,
   "id": "d2273e74",
   "metadata": {},
   "outputs": [],
   "source": []
  }
 ],
 "metadata": {
  "kernelspec": {
   "display_name": "venv",
   "language": "python",
   "name": "python3"
  },
  "language_info": {
   "codemirror_mode": {
    "name": "ipython",
    "version": 3
   },
   "file_extension": ".py",
   "mimetype": "text/x-python",
   "name": "python",
   "nbconvert_exporter": "python",
   "pygments_lexer": "ipython3",
   "version": "3.13.3"
  }
 },
 "nbformat": 4,
 "nbformat_minor": 5
}
